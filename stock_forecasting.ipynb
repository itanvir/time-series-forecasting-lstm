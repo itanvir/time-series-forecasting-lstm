{
  "nbformat": 4,
  "nbformat_minor": 0,
  "metadata": {
    "colab": {
      "name": "stock_forecasting.ipynb",
      "provenance": [],
      "collapsed_sections": [],
      "toc_visible": true,
      "authorship_tag": "ABX9TyNG0PW2lvgTZDwPOA+w/9UB",
      "include_colab_link": true
    },
    "kernelspec": {
      "name": "python3",
      "display_name": "Python 3"
    },
    "accelerator": "GPU"
  },
  "cells": [
    {
      "cell_type": "markdown",
      "metadata": {
        "id": "view-in-github",
        "colab_type": "text"
      },
      "source": [
        "<a href=\"https://colab.research.google.com/github/itanvir/time-series-forecasting-lstm/blob/master/stock_forecasting.ipynb\" target=\"_parent\"><img src=\"https://colab.research.google.com/assets/colab-badge.svg\" alt=\"Open In Colab\"/></a>"
      ]
    },
    {
      "cell_type": "code",
      "metadata": {
        "id": "xo-VubHgmh6x",
        "colab_type": "code",
        "outputId": "87d84357-5ad2-4dae-f4c9-e83490e8d76c",
        "colab": {
          "base_uri": "https://localhost:8080/",
          "height": 122
        }
      },
      "source": [
        "from google.colab import drive\n",
        "drive.mount('/content/drive/')"
      ],
      "execution_count": 3,
      "outputs": [
        {
          "output_type": "stream",
          "text": [
            "Go to this URL in a browser: https://accounts.google.com/o/oauth2/auth?client_id=947318989803-6bn6qk8qdgf4n4g3pfee6491hc0brc4i.apps.googleusercontent.com&redirect_uri=urn%3aietf%3awg%3aoauth%3a2.0%3aoob&response_type=code&scope=email%20https%3a%2f%2fwww.googleapis.com%2fauth%2fdocs.test%20https%3a%2f%2fwww.googleapis.com%2fauth%2fdrive%20https%3a%2f%2fwww.googleapis.com%2fauth%2fdrive.photos.readonly%20https%3a%2f%2fwww.googleapis.com%2fauth%2fpeopleapi.readonly\n",
            "\n",
            "Enter your authorization code:\n",
            "··········\n",
            "Mounted at /content/drive/\n"
          ],
          "name": "stdout"
        }
      ]
    },
    {
      "cell_type": "code",
      "metadata": {
        "id": "fJdnWjWJmmln",
        "colab_type": "code",
        "outputId": "301e88a9-12f8-4244-ea3d-2abcb90080ab",
        "colab": {
          "base_uri": "https://localhost:8080/",
          "height": 34
        }
      },
      "source": [
        "!ls \"/content/drive/My Drive/\""
      ],
      "execution_count": 4,
      "outputs": [
        {
          "output_type": "stream",
          "text": [
            "'Colab Notebooks'  'How to get started with Drive.pdf'\t Share\n"
          ],
          "name": "stdout"
        }
      ]
    },
    {
      "cell_type": "code",
      "metadata": {
        "id": "Mwb5x-oOyZ8n",
        "colab_type": "code",
        "outputId": "77921648-0ea2-4197-ecc4-0317629c176c",
        "colab": {
          "base_uri": "https://localhost:8080/",
          "height": 34
        }
      },
      "source": [
        "!ls \"/content/drive/My Drive/Colab Notebooks\""
      ],
      "execution_count": 5,
      "outputs": [
        {
          "output_type": "stream",
          "text": [
            "time-series-forecasting-lstm\n"
          ],
          "name": "stdout"
        }
      ]
    },
    {
      "cell_type": "code",
      "metadata": {
        "id": "3nxRgvf7yjxK",
        "colab_type": "code",
        "colab": {
          "base_uri": "https://localhost:8080/",
          "height": 419
        },
        "outputId": "39493b37-5021-4ef7-9613-5637b7596339"
      },
      "source": [
        "import numpy as np\n",
        "import pandas as pd\n",
        "import matplotlib.pyplot as plt\n",
        "\n",
        "# Read data\n",
        "stock_df = pd.read_csv(\"/content/drive/My Drive/Colab Notebooks/time-series-forecasting-lstm/google_historical_quotes.csv\")\n",
        "stock_df[\"average\"] = (stock_df[\"high\"] + stock_df[\"low\"])/2\n",
        "stock_df"
      ],
      "execution_count": 6,
      "outputs": [
        {
          "output_type": "execute_result",
          "data": {
            "text/html": [
              "<div>\n",
              "<style scoped>\n",
              "    .dataframe tbody tr th:only-of-type {\n",
              "        vertical-align: middle;\n",
              "    }\n",
              "\n",
              "    .dataframe tbody tr th {\n",
              "        vertical-align: top;\n",
              "    }\n",
              "\n",
              "    .dataframe thead th {\n",
              "        text-align: right;\n",
              "    }\n",
              "</style>\n",
              "<table border=\"1\" class=\"dataframe\">\n",
              "  <thead>\n",
              "    <tr style=\"text-align: right;\">\n",
              "      <th></th>\n",
              "      <th>date</th>\n",
              "      <th>close</th>\n",
              "      <th>volume</th>\n",
              "      <th>open</th>\n",
              "      <th>high</th>\n",
              "      <th>low</th>\n",
              "      <th>average</th>\n",
              "    </tr>\n",
              "  </thead>\n",
              "  <tbody>\n",
              "    <tr>\n",
              "      <th>0</th>\n",
              "      <td>5/12/20</td>\n",
              "      <td>1375.74</td>\n",
              "      <td>1390600</td>\n",
              "      <td>1407.12</td>\n",
              "      <td>1415.00</td>\n",
              "      <td>1374.77</td>\n",
              "      <td>1394.885</td>\n",
              "    </tr>\n",
              "    <tr>\n",
              "      <th>1</th>\n",
              "      <td>5/11/20</td>\n",
              "      <td>1403.26</td>\n",
              "      <td>1412116</td>\n",
              "      <td>1378.28</td>\n",
              "      <td>1416.53</td>\n",
              "      <td>1377.15</td>\n",
              "      <td>1396.840</td>\n",
              "    </tr>\n",
              "    <tr>\n",
              "      <th>2</th>\n",
              "      <td>5/8/20</td>\n",
              "      <td>1388.37</td>\n",
              "      <td>1388068</td>\n",
              "      <td>1383.13</td>\n",
              "      <td>1398.76</td>\n",
              "      <td>1375.48</td>\n",
              "      <td>1387.120</td>\n",
              "    </tr>\n",
              "    <tr>\n",
              "      <th>3</th>\n",
              "      <td>5/7/20</td>\n",
              "      <td>1372.56</td>\n",
              "      <td>1399759</td>\n",
              "      <td>1365.94</td>\n",
              "      <td>1377.60</td>\n",
              "      <td>1355.27</td>\n",
              "      <td>1366.435</td>\n",
              "    </tr>\n",
              "    <tr>\n",
              "      <th>4</th>\n",
              "      <td>5/6/20</td>\n",
              "      <td>1347.30</td>\n",
              "      <td>1215423</td>\n",
              "      <td>1361.69</td>\n",
              "      <td>1371.12</td>\n",
              "      <td>1347.29</td>\n",
              "      <td>1359.205</td>\n",
              "    </tr>\n",
              "    <tr>\n",
              "      <th>...</th>\n",
              "      <td>...</td>\n",
              "      <td>...</td>\n",
              "      <td>...</td>\n",
              "      <td>...</td>\n",
              "      <td>...</td>\n",
              "      <td>...</td>\n",
              "      <td>...</td>\n",
              "    </tr>\n",
              "    <tr>\n",
              "      <th>1254</th>\n",
              "      <td>5/19/15</td>\n",
              "      <td>537.36</td>\n",
              "      <td>1964037</td>\n",
              "      <td>533.98</td>\n",
              "      <td>540.66</td>\n",
              "      <td>533.04</td>\n",
              "      <td>536.850</td>\n",
              "    </tr>\n",
              "    <tr>\n",
              "      <th>1255</th>\n",
              "      <td>5/18/15</td>\n",
              "      <td>532.30</td>\n",
              "      <td>2001117</td>\n",
              "      <td>532.01</td>\n",
              "      <td>534.82</td>\n",
              "      <td>528.85</td>\n",
              "      <td>531.835</td>\n",
              "    </tr>\n",
              "    <tr>\n",
              "      <th>1256</th>\n",
              "      <td>5/15/15</td>\n",
              "      <td>533.85</td>\n",
              "      <td>1965088</td>\n",
              "      <td>539.18</td>\n",
              "      <td>539.27</td>\n",
              "      <td>530.38</td>\n",
              "      <td>534.825</td>\n",
              "    </tr>\n",
              "    <tr>\n",
              "      <th>1257</th>\n",
              "      <td>5/14/15</td>\n",
              "      <td>538.40</td>\n",
              "      <td>1401005</td>\n",
              "      <td>533.77</td>\n",
              "      <td>539.00</td>\n",
              "      <td>532.41</td>\n",
              "      <td>535.705</td>\n",
              "    </tr>\n",
              "    <tr>\n",
              "      <th>1258</th>\n",
              "      <td>5/13/15</td>\n",
              "      <td>529.62</td>\n",
              "      <td>1253005</td>\n",
              "      <td>530.56</td>\n",
              "      <td>534.32</td>\n",
              "      <td>528.66</td>\n",
              "      <td>531.490</td>\n",
              "    </tr>\n",
              "  </tbody>\n",
              "</table>\n",
              "<p>1259 rows × 7 columns</p>\n",
              "</div>"
            ],
            "text/plain": [
              "         date    close   volume     open     high      low   average\n",
              "0     5/12/20  1375.74  1390600  1407.12  1415.00  1374.77  1394.885\n",
              "1     5/11/20  1403.26  1412116  1378.28  1416.53  1377.15  1396.840\n",
              "2      5/8/20  1388.37  1388068  1383.13  1398.76  1375.48  1387.120\n",
              "3      5/7/20  1372.56  1399759  1365.94  1377.60  1355.27  1366.435\n",
              "4      5/6/20  1347.30  1215423  1361.69  1371.12  1347.29  1359.205\n",
              "...       ...      ...      ...      ...      ...      ...       ...\n",
              "1254  5/19/15   537.36  1964037   533.98   540.66   533.04   536.850\n",
              "1255  5/18/15   532.30  2001117   532.01   534.82   528.85   531.835\n",
              "1256  5/15/15   533.85  1965088   539.18   539.27   530.38   534.825\n",
              "1257  5/14/15   538.40  1401005   533.77   539.00   532.41   535.705\n",
              "1258  5/13/15   529.62  1253005   530.56   534.32   528.66   531.490\n",
              "\n",
              "[1259 rows x 7 columns]"
            ]
          },
          "metadata": {
            "tags": []
          },
          "execution_count": 6
        }
      ]
    },
    {
      "cell_type": "code",
      "metadata": {
        "id": "mfH4_HC4SDLQ",
        "colab_type": "code",
        "colab": {}
      },
      "source": [
        "# Only volume and average data will be used\n",
        "df = stock_df[['volume', 'average']]\n",
        "\n",
        "# Scaling\n",
        "from sklearn.preprocessing import MinMaxScaler\n",
        "scaler_data = MinMaxScaler(feature_range=(0,1))\n",
        "data_scaled = scaler_data.fit_transform(df)\n",
        "\n",
        "scaler_price = MinMaxScaler(feature_range=(0,1))\n",
        "price_scaled = scaler_price.fit_transform(df['average'].values.reshape(-1, 1) )\n"
      ],
      "execution_count": 0,
      "outputs": []
    },
    {
      "cell_type": "code",
      "metadata": {
        "id": "h7cJKVc_zF3L",
        "colab_type": "code",
        "colab": {}
      },
      "source": [
        "# Lookback previous 50 business days\n",
        "lookback= 50\n",
        "\n",
        "X=[]\n",
        "y=[]\n",
        "for i in range(len(data_scaled)-lookback-1):\n",
        "    t=[]\n",
        "    for j in range(0,lookback):\n",
        "        \n",
        "        t.append(data_scaled[[(i+j)], :])\n",
        "    X.append(t)\n",
        "    y.append(data_scaled[i+ lookback,1])"
      ],
      "execution_count": 0,
      "outputs": []
    },
    {
      "cell_type": "code",
      "metadata": {
        "id": "W6ade_lTUGAx",
        "colab_type": "code",
        "colab": {
          "base_uri": "https://localhost:8080/",
          "height": 68
        },
        "outputId": "d05762af-3b7e-4d8b-d819-ea143b2eed97"
      },
      "source": [
        "# Train/test split\n",
        "test_size=int(.3 * len(data_scaled))\n",
        "X, y = np.array(X), np.array(y)\n",
        "X = X.reshape(X.shape[0],lookback, 2)\n",
        "\n",
        "X_train = X[0:-test_size+lookback]\n",
        "y_train = y[0:-test_size+lookback]\n",
        "X_test = X[:test_size+lookback]\n",
        "y_test = y[:test_size+lookback]\n",
        "\n",
        "print(X.shape)\n",
        "print(X_train.shape)\n",
        "print(X_test.shape)"
      ],
      "execution_count": 27,
      "outputs": [
        {
          "output_type": "stream",
          "text": [
            "(1208, 50, 2)\n",
            "(881, 50, 2)\n",
            "(427, 50, 2)\n"
          ],
          "name": "stdout"
        }
      ]
    },
    {
      "cell_type": "code",
      "metadata": {
        "id": "9bWuLsXDYoBk",
        "colab_type": "code",
        "colab": {
          "base_uri": "https://localhost:8080/",
          "height": 34
        },
        "outputId": "054a4795-44e7-474e-a684-13c80917b468"
      },
      "source": [
        "# Input shape for LSTM (nlookbacks x nfeatures)\n",
        "input_shape = (X_train.shape[1],2)\n",
        "print (input_shape)"
      ],
      "execution_count": 19,
      "outputs": [
        {
          "output_type": "stream",
          "text": [
            "(50, 2)\n"
          ],
          "name": "stdout"
        }
      ]
    },
    {
      "cell_type": "code",
      "metadata": {
        "id": "eFO6pG4pzdkS",
        "colab_type": "code",
        "outputId": "be6f18e2-ee8b-4138-94c9-de9e48af2707",
        "colab": {
          "base_uri": "https://localhost:8080/",
          "height": 306
        }
      },
      "source": [
        "from keras import Sequential\n",
        "from keras.layers import Dense, LSTM\n",
        "\n",
        "# Model architecture\n",
        "model = Sequential()\n",
        "model.add(LSTM(units=30, return_sequences = True, input_shape = input_shape))\n",
        "model.add(LSTM(units=30, return_sequences = True))\n",
        "model.add(LSTM(units=30))\n",
        "model.add(Dense(units=1))\n",
        "model.summary()"
      ],
      "execution_count": 20,
      "outputs": [
        {
          "output_type": "stream",
          "text": [
            "Using TensorFlow backend.\n"
          ],
          "name": "stderr"
        },
        {
          "output_type": "stream",
          "text": [
            "Model: \"sequential_1\"\n",
            "_________________________________________________________________\n",
            "Layer (type)                 Output Shape              Param #   \n",
            "=================================================================\n",
            "lstm_1 (LSTM)                (None, 50, 30)            3960      \n",
            "_________________________________________________________________\n",
            "lstm_2 (LSTM)                (None, 50, 30)            7320      \n",
            "_________________________________________________________________\n",
            "lstm_3 (LSTM)                (None, 30)                7320      \n",
            "_________________________________________________________________\n",
            "dense_1 (Dense)              (None, 1)                 31        \n",
            "=================================================================\n",
            "Total params: 18,631\n",
            "Trainable params: 18,631\n",
            "Non-trainable params: 0\n",
            "_________________________________________________________________\n"
          ],
          "name": "stdout"
        }
      ]
    },
    {
      "cell_type": "code",
      "metadata": {
        "id": "m87lo90fWdth",
        "colab_type": "code",
        "colab": {
          "base_uri": "https://localhost:8080/",
          "height": 1000
        },
        "outputId": "09f07df6-c6a2-44dd-f3a6-64bad865fd48"
      },
      "source": [
        "# Compile and fit\n",
        "model.compile(optimizer='adam', loss='mean_squared_error')\n",
        "model.fit(X_train, y_train, epochs=200, batch_size=256)"
      ],
      "execution_count": 21,
      "outputs": [
        {
          "output_type": "stream",
          "text": [
            "Epoch 1/200\n",
            "881/881 [==============================] - 4s 5ms/step - loss: 0.2376\n",
            "Epoch 2/200\n",
            "881/881 [==============================] - 2s 2ms/step - loss: 0.0346\n",
            "Epoch 3/200\n",
            "881/881 [==============================] - 2s 2ms/step - loss: 0.0394\n",
            "Epoch 4/200\n",
            "881/881 [==============================] - 2s 2ms/step - loss: 0.0094\n",
            "Epoch 5/200\n",
            "881/881 [==============================] - 2s 2ms/step - loss: 0.0131\n",
            "Epoch 6/200\n",
            "881/881 [==============================] - 2s 2ms/step - loss: 0.0153\n",
            "Epoch 7/200\n",
            "881/881 [==============================] - 2s 2ms/step - loss: 0.0071\n",
            "Epoch 8/200\n",
            "881/881 [==============================] - 2s 2ms/step - loss: 0.0065\n",
            "Epoch 9/200\n",
            "881/881 [==============================] - 2s 2ms/step - loss: 0.0075\n",
            "Epoch 10/200\n",
            "881/881 [==============================] - 2s 2ms/step - loss: 0.0047\n",
            "Epoch 11/200\n",
            "881/881 [==============================] - 2s 2ms/step - loss: 0.0050\n",
            "Epoch 12/200\n",
            "881/881 [==============================] - 2s 2ms/step - loss: 0.0045\n",
            "Epoch 13/200\n",
            "881/881 [==============================] - 2s 2ms/step - loss: 0.0036\n",
            "Epoch 14/200\n",
            "881/881 [==============================] - 2s 2ms/step - loss: 0.0035\n",
            "Epoch 15/200\n",
            "881/881 [==============================] - 2s 2ms/step - loss: 0.0029\n",
            "Epoch 16/200\n",
            "881/881 [==============================] - 2s 2ms/step - loss: 0.0028\n",
            "Epoch 17/200\n",
            "881/881 [==============================] - 2s 2ms/step - loss: 0.0025\n",
            "Epoch 18/200\n",
            "881/881 [==============================] - 2s 2ms/step - loss: 0.0022\n",
            "Epoch 19/200\n",
            "881/881 [==============================] - 2s 2ms/step - loss: 0.0021\n",
            "Epoch 20/200\n",
            "881/881 [==============================] - 2s 2ms/step - loss: 0.0019\n",
            "Epoch 21/200\n",
            "881/881 [==============================] - 2s 2ms/step - loss: 0.0018\n",
            "Epoch 22/200\n",
            "881/881 [==============================] - 2s 2ms/step - loss: 0.0017\n",
            "Epoch 23/200\n",
            "881/881 [==============================] - 2s 2ms/step - loss: 0.0017\n",
            "Epoch 24/200\n",
            "881/881 [==============================] - 2s 2ms/step - loss: 0.0016\n",
            "Epoch 25/200\n",
            "881/881 [==============================] - 2s 2ms/step - loss: 0.0016\n",
            "Epoch 26/200\n",
            "881/881 [==============================] - 2s 2ms/step - loss: 0.0016\n",
            "Epoch 27/200\n",
            "881/881 [==============================] - 2s 2ms/step - loss: 0.0016\n",
            "Epoch 28/200\n",
            "881/881 [==============================] - 2s 2ms/step - loss: 0.0015\n",
            "Epoch 29/200\n",
            "881/881 [==============================] - 2s 2ms/step - loss: 0.0015\n",
            "Epoch 30/200\n",
            "881/881 [==============================] - 2s 2ms/step - loss: 0.0015\n",
            "Epoch 31/200\n",
            "881/881 [==============================] - 2s 2ms/step - loss: 0.0015\n",
            "Epoch 32/200\n",
            "881/881 [==============================] - 2s 2ms/step - loss: 0.0015\n",
            "Epoch 33/200\n",
            "881/881 [==============================] - 2s 2ms/step - loss: 0.0015\n",
            "Epoch 34/200\n",
            "881/881 [==============================] - 2s 2ms/step - loss: 0.0015\n",
            "Epoch 35/200\n",
            "881/881 [==============================] - 2s 2ms/step - loss: 0.0014\n",
            "Epoch 36/200\n",
            "881/881 [==============================] - 2s 2ms/step - loss: 0.0014\n",
            "Epoch 37/200\n",
            "881/881 [==============================] - 2s 2ms/step - loss: 0.0014\n",
            "Epoch 38/200\n",
            "881/881 [==============================] - 2s 2ms/step - loss: 0.0014\n",
            "Epoch 39/200\n",
            "881/881 [==============================] - 2s 2ms/step - loss: 0.0014\n",
            "Epoch 40/200\n",
            "881/881 [==============================] - 2s 2ms/step - loss: 0.0014\n",
            "Epoch 41/200\n",
            "881/881 [==============================] - 2s 2ms/step - loss: 0.0014\n",
            "Epoch 42/200\n",
            "881/881 [==============================] - 2s 2ms/step - loss: 0.0014\n",
            "Epoch 43/200\n",
            "881/881 [==============================] - 2s 2ms/step - loss: 0.0013\n",
            "Epoch 44/200\n",
            "881/881 [==============================] - 2s 2ms/step - loss: 0.0013\n",
            "Epoch 45/200\n",
            "881/881 [==============================] - 2s 2ms/step - loss: 0.0013\n",
            "Epoch 46/200\n",
            "881/881 [==============================] - 2s 2ms/step - loss: 0.0013\n",
            "Epoch 47/200\n",
            "881/881 [==============================] - 2s 2ms/step - loss: 0.0013\n",
            "Epoch 48/200\n",
            "881/881 [==============================] - 2s 2ms/step - loss: 0.0013\n",
            "Epoch 49/200\n",
            "881/881 [==============================] - 2s 2ms/step - loss: 0.0013\n",
            "Epoch 50/200\n",
            "881/881 [==============================] - 2s 2ms/step - loss: 0.0013\n",
            "Epoch 51/200\n",
            "881/881 [==============================] - 2s 2ms/step - loss: 0.0013\n",
            "Epoch 52/200\n",
            "881/881 [==============================] - 2s 2ms/step - loss: 0.0013\n",
            "Epoch 53/200\n",
            "881/881 [==============================] - 2s 2ms/step - loss: 0.0012\n",
            "Epoch 54/200\n",
            "881/881 [==============================] - 2s 2ms/step - loss: 0.0012\n",
            "Epoch 55/200\n",
            "881/881 [==============================] - 2s 2ms/step - loss: 0.0012\n",
            "Epoch 56/200\n",
            "881/881 [==============================] - 2s 2ms/step - loss: 0.0012\n",
            "Epoch 57/200\n",
            "881/881 [==============================] - 2s 2ms/step - loss: 0.0012\n",
            "Epoch 58/200\n",
            "881/881 [==============================] - 2s 2ms/step - loss: 0.0012\n",
            "Epoch 59/200\n",
            "881/881 [==============================] - 2s 2ms/step - loss: 0.0012\n",
            "Epoch 60/200\n",
            "881/881 [==============================] - 2s 2ms/step - loss: 0.0012\n",
            "Epoch 61/200\n",
            "881/881 [==============================] - 2s 2ms/step - loss: 0.0012\n",
            "Epoch 62/200\n",
            "881/881 [==============================] - 2s 2ms/step - loss: 0.0012\n",
            "Epoch 63/200\n",
            "881/881 [==============================] - 2s 2ms/step - loss: 0.0012\n",
            "Epoch 64/200\n",
            "881/881 [==============================] - 2s 2ms/step - loss: 0.0012\n",
            "Epoch 65/200\n",
            "881/881 [==============================] - 2s 2ms/step - loss: 0.0012\n",
            "Epoch 66/200\n",
            "881/881 [==============================] - 2s 2ms/step - loss: 0.0012\n",
            "Epoch 67/200\n",
            "881/881 [==============================] - 2s 2ms/step - loss: 0.0012\n",
            "Epoch 68/200\n",
            "881/881 [==============================] - 2s 2ms/step - loss: 0.0011\n",
            "Epoch 69/200\n",
            "881/881 [==============================] - 2s 2ms/step - loss: 0.0012\n",
            "Epoch 70/200\n",
            "881/881 [==============================] - 2s 2ms/step - loss: 0.0011\n",
            "Epoch 71/200\n",
            "881/881 [==============================] - 2s 2ms/step - loss: 0.0011\n",
            "Epoch 72/200\n",
            "881/881 [==============================] - 2s 2ms/step - loss: 0.0011\n",
            "Epoch 73/200\n",
            "881/881 [==============================] - 2s 2ms/step - loss: 0.0011\n",
            "Epoch 74/200\n",
            "881/881 [==============================] - 2s 2ms/step - loss: 0.0011\n",
            "Epoch 75/200\n",
            "881/881 [==============================] - 2s 2ms/step - loss: 0.0011\n",
            "Epoch 76/200\n",
            "881/881 [==============================] - 2s 2ms/step - loss: 0.0011\n",
            "Epoch 77/200\n",
            "881/881 [==============================] - 2s 2ms/step - loss: 0.0011\n",
            "Epoch 78/200\n",
            "881/881 [==============================] - 2s 2ms/step - loss: 0.0011\n",
            "Epoch 79/200\n",
            "881/881 [==============================] - 2s 2ms/step - loss: 0.0011\n",
            "Epoch 80/200\n",
            "881/881 [==============================] - 2s 2ms/step - loss: 0.0011\n",
            "Epoch 81/200\n",
            "881/881 [==============================] - 2s 2ms/step - loss: 0.0011\n",
            "Epoch 82/200\n",
            "881/881 [==============================] - 2s 2ms/step - loss: 0.0011\n",
            "Epoch 83/200\n",
            "881/881 [==============================] - 2s 2ms/step - loss: 0.0011\n",
            "Epoch 84/200\n",
            "881/881 [==============================] - 2s 2ms/step - loss: 0.0011\n",
            "Epoch 85/200\n",
            "881/881 [==============================] - 2s 2ms/step - loss: 0.0011\n",
            "Epoch 86/200\n",
            "881/881 [==============================] - 2s 2ms/step - loss: 0.0011\n",
            "Epoch 87/200\n",
            "881/881 [==============================] - 2s 2ms/step - loss: 0.0011\n",
            "Epoch 88/200\n",
            "881/881 [==============================] - 2s 2ms/step - loss: 0.0011\n",
            "Epoch 89/200\n",
            "881/881 [==============================] - 2s 2ms/step - loss: 0.0011\n",
            "Epoch 90/200\n",
            "881/881 [==============================] - 2s 2ms/step - loss: 0.0011\n",
            "Epoch 91/200\n",
            "881/881 [==============================] - 2s 2ms/step - loss: 0.0011\n",
            "Epoch 92/200\n",
            "881/881 [==============================] - 2s 2ms/step - loss: 0.0011\n",
            "Epoch 93/200\n",
            "881/881 [==============================] - 2s 2ms/step - loss: 0.0011\n",
            "Epoch 94/200\n",
            "881/881 [==============================] - 2s 2ms/step - loss: 0.0011\n",
            "Epoch 95/200\n",
            "881/881 [==============================] - 2s 2ms/step - loss: 0.0011\n",
            "Epoch 96/200\n",
            "881/881 [==============================] - 2s 2ms/step - loss: 0.0011\n",
            "Epoch 97/200\n",
            "881/881 [==============================] - 2s 2ms/step - loss: 0.0011\n",
            "Epoch 98/200\n",
            "881/881 [==============================] - 2s 2ms/step - loss: 0.0011\n",
            "Epoch 99/200\n",
            "881/881 [==============================] - 2s 2ms/step - loss: 0.0011\n",
            "Epoch 100/200\n",
            "881/881 [==============================] - 2s 2ms/step - loss: 0.0011\n",
            "Epoch 101/200\n",
            "881/881 [==============================] - 2s 2ms/step - loss: 0.0011\n",
            "Epoch 102/200\n",
            "881/881 [==============================] - 2s 2ms/step - loss: 0.0010\n",
            "Epoch 103/200\n",
            "881/881 [==============================] - 2s 2ms/step - loss: 0.0010\n",
            "Epoch 104/200\n",
            "881/881 [==============================] - 2s 2ms/step - loss: 0.0010\n",
            "Epoch 105/200\n",
            "881/881 [==============================] - 2s 2ms/step - loss: 0.0010\n",
            "Epoch 106/200\n",
            "881/881 [==============================] - 2s 2ms/step - loss: 0.0010\n",
            "Epoch 107/200\n",
            "881/881 [==============================] - 2s 2ms/step - loss: 0.0010\n",
            "Epoch 108/200\n",
            "881/881 [==============================] - 2s 2ms/step - loss: 0.0010\n",
            "Epoch 109/200\n",
            "881/881 [==============================] - 2s 2ms/step - loss: 0.0011\n",
            "Epoch 110/200\n",
            "881/881 [==============================] - 2s 2ms/step - loss: 0.0011\n",
            "Epoch 111/200\n",
            "881/881 [==============================] - 2s 2ms/step - loss: 0.0011\n",
            "Epoch 112/200\n",
            "881/881 [==============================] - 2s 2ms/step - loss: 0.0011\n",
            "Epoch 113/200\n",
            "881/881 [==============================] - 2s 2ms/step - loss: 0.0010\n",
            "Epoch 114/200\n",
            "881/881 [==============================] - 2s 2ms/step - loss: 0.0010\n",
            "Epoch 115/200\n",
            "881/881 [==============================] - 2s 2ms/step - loss: 0.0010\n",
            "Epoch 116/200\n",
            "881/881 [==============================] - 2s 2ms/step - loss: 0.0010\n",
            "Epoch 117/200\n",
            "881/881 [==============================] - 2s 2ms/step - loss: 0.0010\n",
            "Epoch 118/200\n",
            "881/881 [==============================] - 2s 2ms/step - loss: 0.0010\n",
            "Epoch 119/200\n",
            "881/881 [==============================] - 2s 2ms/step - loss: 0.0010\n",
            "Epoch 120/200\n",
            "881/881 [==============================] - 2s 2ms/step - loss: 0.0010\n",
            "Epoch 121/200\n",
            "881/881 [==============================] - 2s 2ms/step - loss: 0.0011\n",
            "Epoch 122/200\n",
            "881/881 [==============================] - 2s 2ms/step - loss: 0.0010\n",
            "Epoch 123/200\n",
            "881/881 [==============================] - 2s 2ms/step - loss: 0.0010\n",
            "Epoch 124/200\n",
            "881/881 [==============================] - 2s 2ms/step - loss: 0.0010\n",
            "Epoch 125/200\n",
            "881/881 [==============================] - 2s 2ms/step - loss: 0.0010\n",
            "Epoch 126/200\n",
            "881/881 [==============================] - 2s 2ms/step - loss: 0.0010\n",
            "Epoch 127/200\n",
            "881/881 [==============================] - 2s 2ms/step - loss: 0.0010\n",
            "Epoch 128/200\n",
            "881/881 [==============================] - 2s 2ms/step - loss: 0.0010\n",
            "Epoch 129/200\n",
            "881/881 [==============================] - 2s 2ms/step - loss: 9.9169e-04\n",
            "Epoch 130/200\n",
            "881/881 [==============================] - 2s 2ms/step - loss: 9.8513e-04\n",
            "Epoch 131/200\n",
            "881/881 [==============================] - 2s 2ms/step - loss: 9.9351e-04\n",
            "Epoch 132/200\n",
            "881/881 [==============================] - 2s 2ms/step - loss: 9.8867e-04\n",
            "Epoch 133/200\n",
            "881/881 [==============================] - 2s 2ms/step - loss: 9.8779e-04\n",
            "Epoch 134/200\n",
            "881/881 [==============================] - 2s 2ms/step - loss: 9.8404e-04\n",
            "Epoch 135/200\n",
            "881/881 [==============================] - 2s 2ms/step - loss: 9.9984e-04\n",
            "Epoch 136/200\n",
            "881/881 [==============================] - 2s 2ms/step - loss: 0.0010\n",
            "Epoch 137/200\n",
            "881/881 [==============================] - 2s 2ms/step - loss: 9.7440e-04\n",
            "Epoch 138/200\n",
            "881/881 [==============================] - 2s 2ms/step - loss: 9.8645e-04\n",
            "Epoch 139/200\n",
            "881/881 [==============================] - 2s 2ms/step - loss: 9.6766e-04\n",
            "Epoch 140/200\n",
            "881/881 [==============================] - 2s 2ms/step - loss: 9.8220e-04\n",
            "Epoch 141/200\n",
            "881/881 [==============================] - 2s 2ms/step - loss: 9.8403e-04\n",
            "Epoch 142/200\n",
            "881/881 [==============================] - 2s 2ms/step - loss: 9.8407e-04\n",
            "Epoch 143/200\n",
            "881/881 [==============================] - 2s 2ms/step - loss: 9.7822e-04\n",
            "Epoch 144/200\n",
            "881/881 [==============================] - 2s 2ms/step - loss: 9.5859e-04\n",
            "Epoch 145/200\n",
            "881/881 [==============================] - 2s 2ms/step - loss: 9.5792e-04\n",
            "Epoch 146/200\n",
            "881/881 [==============================] - 2s 2ms/step - loss: 9.6164e-04\n",
            "Epoch 147/200\n",
            "881/881 [==============================] - 2s 2ms/step - loss: 9.4873e-04\n",
            "Epoch 148/200\n",
            "881/881 [==============================] - 2s 2ms/step - loss: 9.4405e-04\n",
            "Epoch 149/200\n",
            "881/881 [==============================] - 2s 2ms/step - loss: 9.6652e-04\n",
            "Epoch 150/200\n",
            "881/881 [==============================] - 2s 2ms/step - loss: 9.7735e-04\n",
            "Epoch 151/200\n",
            "881/881 [==============================] - 2s 2ms/step - loss: 9.6766e-04\n",
            "Epoch 152/200\n",
            "881/881 [==============================] - 2s 2ms/step - loss: 9.3638e-04\n",
            "Epoch 153/200\n",
            "881/881 [==============================] - 2s 2ms/step - loss: 9.5481e-04\n",
            "Epoch 154/200\n",
            "881/881 [==============================] - 2s 2ms/step - loss: 9.4643e-04\n",
            "Epoch 155/200\n",
            "881/881 [==============================] - 2s 2ms/step - loss: 9.5752e-04\n",
            "Epoch 156/200\n",
            "881/881 [==============================] - 2s 2ms/step - loss: 9.6664e-04\n",
            "Epoch 157/200\n",
            "881/881 [==============================] - 2s 2ms/step - loss: 9.3956e-04\n",
            "Epoch 158/200\n",
            "881/881 [==============================] - 2s 2ms/step - loss: 9.4256e-04\n",
            "Epoch 159/200\n",
            "881/881 [==============================] - 2s 2ms/step - loss: 9.7833e-04\n",
            "Epoch 160/200\n",
            "881/881 [==============================] - 2s 2ms/step - loss: 9.4376e-04\n",
            "Epoch 161/200\n",
            "881/881 [==============================] - 2s 2ms/step - loss: 9.3413e-04\n",
            "Epoch 162/200\n",
            "881/881 [==============================] - 2s 2ms/step - loss: 9.3047e-04\n",
            "Epoch 163/200\n",
            "881/881 [==============================] - 2s 2ms/step - loss: 9.2917e-04\n",
            "Epoch 164/200\n",
            "881/881 [==============================] - 2s 2ms/step - loss: 9.2376e-04\n",
            "Epoch 165/200\n",
            "881/881 [==============================] - 2s 2ms/step - loss: 9.3378e-04\n",
            "Epoch 166/200\n",
            "881/881 [==============================] - 2s 2ms/step - loss: 9.1064e-04\n",
            "Epoch 167/200\n",
            "881/881 [==============================] - 2s 2ms/step - loss: 9.2299e-04\n",
            "Epoch 168/200\n",
            "881/881 [==============================] - 2s 2ms/step - loss: 9.0971e-04\n",
            "Epoch 169/200\n",
            "881/881 [==============================] - 2s 2ms/step - loss: 9.0749e-04\n",
            "Epoch 170/200\n",
            "881/881 [==============================] - 2s 2ms/step - loss: 9.1322e-04\n",
            "Epoch 171/200\n",
            "881/881 [==============================] - 2s 2ms/step - loss: 9.0414e-04\n",
            "Epoch 172/200\n",
            "881/881 [==============================] - 2s 2ms/step - loss: 9.0759e-04\n",
            "Epoch 173/200\n",
            "881/881 [==============================] - 2s 2ms/step - loss: 8.9866e-04\n",
            "Epoch 174/200\n",
            "881/881 [==============================] - 2s 2ms/step - loss: 8.9821e-04\n",
            "Epoch 175/200\n",
            "881/881 [==============================] - 2s 2ms/step - loss: 8.8918e-04\n",
            "Epoch 176/200\n",
            "881/881 [==============================] - 2s 2ms/step - loss: 8.8644e-04\n",
            "Epoch 177/200\n",
            "881/881 [==============================] - 2s 2ms/step - loss: 8.8512e-04\n",
            "Epoch 178/200\n",
            "881/881 [==============================] - 2s 2ms/step - loss: 8.9272e-04\n",
            "Epoch 179/200\n",
            "881/881 [==============================] - 2s 2ms/step - loss: 8.7930e-04\n",
            "Epoch 180/200\n",
            "881/881 [==============================] - 2s 2ms/step - loss: 8.8365e-04\n",
            "Epoch 181/200\n",
            "881/881 [==============================] - 2s 2ms/step - loss: 8.7410e-04\n",
            "Epoch 182/200\n",
            "881/881 [==============================] - 2s 2ms/step - loss: 8.8859e-04\n",
            "Epoch 183/200\n",
            "881/881 [==============================] - 2s 2ms/step - loss: 8.6926e-04\n",
            "Epoch 184/200\n",
            "881/881 [==============================] - 2s 2ms/step - loss: 8.7721e-04\n",
            "Epoch 185/200\n",
            "881/881 [==============================] - 2s 2ms/step - loss: 8.7466e-04\n",
            "Epoch 186/200\n",
            "881/881 [==============================] - 2s 2ms/step - loss: 8.8322e-04\n",
            "Epoch 187/200\n",
            "881/881 [==============================] - 2s 2ms/step - loss: 8.7440e-04\n",
            "Epoch 188/200\n",
            "881/881 [==============================] - 2s 2ms/step - loss: 8.7275e-04\n",
            "Epoch 189/200\n",
            "881/881 [==============================] - 2s 2ms/step - loss: 8.6917e-04\n",
            "Epoch 190/200\n",
            "881/881 [==============================] - 2s 2ms/step - loss: 8.5548e-04\n",
            "Epoch 191/200\n",
            "881/881 [==============================] - 2s 2ms/step - loss: 8.5469e-04\n",
            "Epoch 192/200\n",
            "881/881 [==============================] - 2s 2ms/step - loss: 8.5748e-04\n",
            "Epoch 193/200\n",
            "881/881 [==============================] - 2s 2ms/step - loss: 8.5814e-04\n",
            "Epoch 194/200\n",
            "881/881 [==============================] - 2s 2ms/step - loss: 8.5104e-04\n",
            "Epoch 195/200\n",
            "881/881 [==============================] - 2s 2ms/step - loss: 8.6080e-04\n",
            "Epoch 196/200\n",
            "881/881 [==============================] - 2s 2ms/step - loss: 8.7073e-04\n",
            "Epoch 197/200\n",
            "881/881 [==============================] - 2s 2ms/step - loss: 8.6064e-04\n",
            "Epoch 198/200\n",
            "881/881 [==============================] - 2s 2ms/step - loss: 8.5349e-04\n",
            "Epoch 199/200\n",
            "881/881 [==============================] - 2s 2ms/step - loss: 8.7198e-04\n",
            "Epoch 200/200\n",
            "881/881 [==============================] - 2s 2ms/step - loss: 8.4219e-04\n"
          ],
          "name": "stdout"
        },
        {
          "output_type": "execute_result",
          "data": {
            "text/plain": [
              "<keras.callbacks.callbacks.History at 0x7f222652ab70>"
            ]
          },
          "metadata": {
            "tags": []
          },
          "execution_count": 21
        }
      ]
    },
    {
      "cell_type": "code",
      "metadata": {
        "id": "8-F8KVzo6rKY",
        "colab_type": "code",
        "colab": {
          "base_uri": "https://localhost:8080/",
          "height": 282
        },
        "outputId": "e439126d-caff-44df-a547-40debf54af02"
      },
      "source": [
        "# Prediction\n",
        "y_pred = model.predict(X_test)\n",
        "\n",
        "# Inverse to original values\n",
        "y_pred_inv = np.squeeze(scaler_price.inverse_transform(y_pred.reshape(-1, 1)))\n",
        "y_test_inv = np.squeeze(scaler_price.inverse_transform(y_test.reshape(-1, 1)))\n",
        "\n",
        "# Plot\n",
        "plt.plot(y_pred_inv)\n",
        "plt.plot(y_test_inv)\n",
        "plt.ylabel('Stock Price')"
      ],
      "execution_count": 45,
      "outputs": [
        {
          "output_type": "execute_result",
          "data": {
            "text/plain": [
              "Text(0, 0.5, 'Stock Price')"
            ]
          },
          "metadata": {
            "tags": []
          },
          "execution_count": 45
        },
        {
          "output_type": "display_data",
          "data": {
            "image/png": "[encoded data removed]",
            "text/plain": [
              "<Figure size 432x288 with 1 Axes>"
            ]
          },
          "metadata": {
            "tags": [],
            "needs_background": "light"
          }
        }
      ]
    },
    {
      "cell_type": "code",
      "metadata": {
        "id": "y4F-aJ5M8EeC",
        "colab_type": "code",
        "colab": {
          "base_uri": "https://localhost:8080/",
          "height": 282
        },
        "outputId": "d2f222d5-efc8-477c-cbd2-1da7ef4abe14"
      },
      "source": [
        "plt.plot((y_pred_inv-y_test_inv)/y_test_inv*100.0, 'c')\n",
        "plt.ylabel('Percent Error')"
      ],
      "execution_count": 52,
      "outputs": [
        {
          "output_type": "execute_result",
          "data": {
            "text/plain": [
              "Text(0, 0.5, 'Percent Error')"
            ]
          },
          "metadata": {
            "tags": []
          },
          "execution_count": 52
        },
        {
          "output_type": "display_data",
          "data": {
            "image/png": "[encoded data removed]",
            "text/plain": [
              "<Figure size 432x288 with 1 Axes>"
            ]
          },
          "metadata": {
            "tags": [],
            "needs_background": "light"
          }
        }
      ]
    }
  ]
}