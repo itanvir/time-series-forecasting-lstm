{
  "nbformat": 4,
  "nbformat_minor": 0,
  "metadata": {
    "colab": {
      "name": "stock_forecasting.ipynb",
      "provenance": [],
      "collapsed_sections": [],
      "toc_visible": true,
      "authorship_tag": "ABX9TyNMUfhDiTNZR2WtE6f6jH5n",
      "include_colab_link": true
    },
    "kernelspec": {
      "name": "python3",
      "display_name": "Python 3"
    },
    "accelerator": "GPU"
  },
  "cells": [
    {
      "cell_type": "markdown",
      "metadata": {
        "id": "view-in-github",
        "colab_type": "text"
      },
      "source": [
        "<a href=\"https://colab.research.google.com/github/itanvir/time-series-forecasting-lstm/blob/master/stock_forecasting.ipynb\" target=\"_parent\"><img src=\"https://colab.research.google.com/assets/colab-badge.svg\" alt=\"Open In Colab\"/></a>"
      ]
    },
    {
      "cell_type": "code",
      "metadata": {
        "id": "xo-VubHgmh6x",
        "colab_type": "code",
        "outputId": "ad703e9e-20d0-4e0b-c3f2-9018b0d8b13b",
        "colab": {
          "base_uri": "https://localhost:8080/",
          "height": 54
        }
      },
      "source": [
        "from google.colab import drive\n",
        "drive.mount('/content/drive/')"
      ],
      "execution_count": 0,
      "outputs": [
        {
          "output_type": "stream",
          "text": [
            "Drive already mounted at /content/drive/; to attempt to forcibly remount, call drive.mount(\"/content/drive/\", force_remount=True).\n"
          ],
          "name": "stdout"
        }
      ]
    },
    {
      "cell_type": "code",
      "metadata": {
        "id": "fJdnWjWJmmln",
        "colab_type": "code",
        "outputId": "6229a8ff-093f-4640-ec46-40ea08e527af",
        "colab": {
          "base_uri": "https://localhost:8080/",
          "height": 34
        }
      },
      "source": [
        "!ls \"/content/drive/My Drive/\""
      ],
      "execution_count": 0,
      "outputs": [
        {
          "output_type": "stream",
          "text": [
            "'Colab Notebooks'  'How to get started with Drive.pdf'\t Share\n"
          ],
          "name": "stdout"
        }
      ]
    },
    {
      "cell_type": "code",
      "metadata": {
        "id": "Mwb5x-oOyZ8n",
        "colab_type": "code",
        "outputId": "373ab31b-95f6-41e5-da36-0dc0cc1fa5ca",
        "colab": {
          "base_uri": "https://localhost:8080/",
          "height": 34
        }
      },
      "source": [
        "!ls \"/content/drive/My Drive/Colab Notebooks\""
      ],
      "execution_count": 112,
      "outputs": [
        {
          "output_type": "stream",
          "text": [
            "time-series-forecasting-lstm\n"
          ],
          "name": "stdout"
        }
      ]
    },
    {
      "cell_type": "code",
      "metadata": {
        "id": "3nxRgvf7yjxK",
        "colab_type": "code",
        "colab": {}
      },
      "source": [
        "import numpy as np\n",
        "import pandas as pd\n",
        "import matplotlib.pyplot as plt\n",
        "\n",
        "# Read data\n",
        "stock_df = pd.read_csv(\"/content/drive/My Drive/Colab Notebooks/time-series-forecasting-lstm/data/google_historical_quotes.csv\")\n",
        "stock_df[\"average\"] = (stock_df[\"high\"] + stock_df[\"low\"])/2\n",
        "stock_df['date'] = pd.to_datetime(stock_df['date'])\n",
        "stock_df = stock_df.sort_values(by='date')"
      ],
      "execution_count": 0,
      "outputs": []
    },
    {
      "cell_type": "code",
      "metadata": {
        "id": "OUljZFe8ZM9E",
        "colab_type": "code",
        "outputId": "12a7b032-5694-429d-fbb4-2357b48e0ff2",
        "colab": {
          "base_uri": "https://localhost:8080/",
          "height": 282
        }
      },
      "source": [
        "# Train/test split\n",
        "test_size=int(.3 * len(df))\n",
        "train_df = stock_df[0:-test_size:]\n",
        "test_df = stock_df[-test_size:]\n",
        "\n",
        "# Let's also plot\n",
        "plt.plot(train_df['date'], train_df['average'])\n",
        "plt.plot(test_df['date'], test_df['average'])"
      ],
      "execution_count": 114,
      "outputs": [
        {
          "output_type": "execute_result",
          "data": {
            "text/plain": [
              "[<matplotlib.lines.Line2D at 0x7f218cb06b00>]"
            ]
          },
          "metadata": {
            "tags": []
          },
          "execution_count": 114
        },
        {
          "output_type": "display_data",
          "data": {
            "image/png": "[encoded data removed]",
            "text/plain": [
              "<Figure size 432x288 with 1 Axes>"
            ]
          },
          "metadata": {
            "tags": [],
            "needs_background": "light"
          }
        }
      ]
    },
    {
      "cell_type": "code",
      "metadata": {
        "id": "G0NR5IVXZl8d",
        "colab_type": "code",
        "colab": {}
      },
      "source": [
        "# Only volume and average data will be used\n",
        "train_df = train_df[['volume', 'average']]\n",
        "test_df = test_df[['volume', 'average']]\n",
        "\n",
        "# Scaling using training data\n",
        "from sklearn.preprocessing import MinMaxScaler\n",
        "scaler_data = MinMaxScaler(feature_range=(0,1))\n",
        "scaler_data = scaler_data.fit(train_df)\n",
        "train_data = scaler_data.transform(train_df)\n",
        "test_data = scaler_data.transform(test_df)\n",
        "\n",
        "# Create scaler_y for inverting ypred\n",
        "scaler_y = MinMaxScaler(feature_range=(0,1))\n",
        "scaler_y = scaler_y.fit(train_df['average'].values.reshape(-1, 1) )"
      ],
      "execution_count": 0,
      "outputs": []
    },
    {
      "cell_type": "code",
      "metadata": {
        "id": "Frrw0vmXc9E2",
        "colab_type": "code",
        "outputId": "354304e4-95b7-495a-95cf-c1d6ba94058a",
        "colab": {
          "base_uri": "https://localhost:8080/",
          "height": 51
        }
      },
      "source": [
        "# Lookback previous 50 business days\n",
        "def build_lookback_series(data_array):\n",
        "  lookback= 50\n",
        "\n",
        "  X=[]\n",
        "  y=[]\n",
        "  for i in range(len(data_array)-lookback-1):\n",
        "      t=[]\n",
        "      for j in range(0,lookback):\n",
        "          \n",
        "          t.append(data_array[[(i+j)], :])\n",
        "      X.append(t)\n",
        "      y.append(data_array[i+ lookback,1])\n",
        "\n",
        "  X, y = np.array(X), np.array(y)\n",
        "\n",
        "  X = np.squeeze(X)\n",
        "  y = np.squeeze(y)\n",
        "\n",
        "  return X, y\n",
        "\n",
        "X_train, y_train = build_lookback_series(train_data)\n",
        "X_test, y_test = build_lookback_series(test_data)\n",
        "\n",
        "print(X_train.shape)\n",
        "print(X_test.shape)"
      ],
      "execution_count": 116,
      "outputs": [
        {
          "output_type": "stream",
          "text": [
            "(831, 50, 2)\n",
            "(326, 50, 2)\n"
          ],
          "name": "stdout"
        }
      ]
    },
    {
      "cell_type": "code",
      "metadata": {
        "id": "9bWuLsXDYoBk",
        "colab_type": "code",
        "outputId": "e5d4f669-face-4516-d9b3-6de38aee241c",
        "colab": {
          "base_uri": "https://localhost:8080/",
          "height": 34
        }
      },
      "source": [
        "# Input shape for LSTM (nlookbacks x nfeatures)\n",
        "input_shape = (X_train.shape[1],2)\n",
        "print (input_shape)"
      ],
      "execution_count": 117,
      "outputs": [
        {
          "output_type": "stream",
          "text": [
            "(50, 2)\n"
          ],
          "name": "stdout"
        }
      ]
    },
    {
      "cell_type": "code",
      "metadata": {
        "id": "eFO6pG4pzdkS",
        "colab_type": "code",
        "outputId": "0b629b62-cd5e-4967-dd72-1d450a0137ed",
        "colab": {
          "base_uri": "https://localhost:8080/",
          "height": 289
        }
      },
      "source": [
        "from keras import Sequential\n",
        "from keras.layers import Dense, LSTM\n",
        "\n",
        "# Model architecture\n",
        "model = Sequential()\n",
        "model.add(LSTM(units=30, return_sequences = True, input_shape = input_shape))\n",
        "model.add(LSTM(units=30, return_sequences = True))\n",
        "model.add(LSTM(units=30))\n",
        "model.add(Dense(units=1))\n",
        "model.summary()"
      ],
      "execution_count": 118,
      "outputs": [
        {
          "output_type": "stream",
          "text": [
            "Model: \"sequential_3\"\n",
            "_________________________________________________________________\n",
            "Layer (type)                 Output Shape              Param #   \n",
            "=================================================================\n",
            "lstm_7 (LSTM)                (None, 50, 30)            3960      \n",
            "_________________________________________________________________\n",
            "lstm_8 (LSTM)                (None, 50, 30)            7320      \n",
            "_________________________________________________________________\n",
            "lstm_9 (LSTM)                (None, 30)                7320      \n",
            "_________________________________________________________________\n",
            "dense_3 (Dense)              (None, 1)                 31        \n",
            "=================================================================\n",
            "Total params: 18,631\n",
            "Trainable params: 18,631\n",
            "Non-trainable params: 0\n",
            "_________________________________________________________________\n"
          ],
          "name": "stdout"
        }
      ]
    },
    {
      "cell_type": "code",
      "metadata": {
        "id": "m87lo90fWdth",
        "colab_type": "code",
        "outputId": "e671ed91-9f73-4d4e-dcd1-b6a813e8e4c1",
        "colab": {
          "base_uri": "https://localhost:8080/",
          "height": 1000
        }
      },
      "source": [
        "# Compile and fit\n",
        "np.random.seed(0) # for reproducibility\n",
        "model.compile(optimizer='adam', loss='mean_squared_error')\n",
        "model.fit(X_train, y_train, epochs=200, batch_size=256)"
      ],
      "execution_count": 122,
      "outputs": [
        {
          "output_type": "stream",
          "text": [
            "Epoch 1/200\n",
            "831/831 [==============================] - 2s 3ms/step - loss: 0.0028\n",
            "Epoch 2/200\n",
            "831/831 [==============================] - 1s 2ms/step - loss: 0.0021\n",
            "Epoch 3/200\n",
            "831/831 [==============================] - 1s 2ms/step - loss: 0.0016\n",
            "Epoch 4/200\n",
            "831/831 [==============================] - 1s 2ms/step - loss: 0.0015\n",
            "Epoch 5/200\n",
            "831/831 [==============================] - 1s 2ms/step - loss: 0.0013\n",
            "Epoch 6/200\n",
            "831/831 [==============================] - 1s 2ms/step - loss: 0.0011\n",
            "Epoch 7/200\n",
            "831/831 [==============================] - 1s 2ms/step - loss: 0.0010\n",
            "Epoch 8/200\n",
            "831/831 [==============================] - 1s 2ms/step - loss: 9.9944e-04\n",
            "Epoch 9/200\n",
            "831/831 [==============================] - 1s 2ms/step - loss: 0.0010\n",
            "Epoch 10/200\n",
            "831/831 [==============================] - 1s 2ms/step - loss: 9.8800e-04\n",
            "Epoch 11/200\n",
            "831/831 [==============================] - 1s 2ms/step - loss: 9.8189e-04\n",
            "Epoch 12/200\n",
            "831/831 [==============================] - 1s 2ms/step - loss: 9.7663e-04\n",
            "Epoch 13/200\n",
            "831/831 [==============================] - 1s 2ms/step - loss: 9.6831e-04\n",
            "Epoch 14/200\n",
            "831/831 [==============================] - 1s 2ms/step - loss: 9.6350e-04\n",
            "Epoch 15/200\n",
            "831/831 [==============================] - 1s 2ms/step - loss: 9.6168e-04\n",
            "Epoch 16/200\n",
            "831/831 [==============================] - 1s 2ms/step - loss: 9.5325e-04\n",
            "Epoch 17/200\n",
            "831/831 [==============================] - 1s 2ms/step - loss: 9.4796e-04\n",
            "Epoch 18/200\n",
            "831/831 [==============================] - 1s 2ms/step - loss: 9.5119e-04\n",
            "Epoch 19/200\n",
            "831/831 [==============================] - 1s 2ms/step - loss: 9.4001e-04\n",
            "Epoch 20/200\n",
            "831/831 [==============================] - 1s 2ms/step - loss: 9.3957e-04\n",
            "Epoch 21/200\n",
            "831/831 [==============================] - 1s 2ms/step - loss: 9.2793e-04\n",
            "Epoch 22/200\n",
            "831/831 [==============================] - 1s 2ms/step - loss: 9.2013e-04\n",
            "Epoch 23/200\n",
            "831/831 [==============================] - 1s 2ms/step - loss: 9.1541e-04\n",
            "Epoch 24/200\n",
            "831/831 [==============================] - 1s 2ms/step - loss: 9.0393e-04\n",
            "Epoch 25/200\n",
            "831/831 [==============================] - 1s 2ms/step - loss: 9.5630e-04\n",
            "Epoch 26/200\n",
            "831/831 [==============================] - 1s 2ms/step - loss: 9.1775e-04\n",
            "Epoch 27/200\n",
            "831/831 [==============================] - 1s 2ms/step - loss: 8.9346e-04\n",
            "Epoch 28/200\n",
            "831/831 [==============================] - 1s 2ms/step - loss: 8.8006e-04\n",
            "Epoch 29/200\n",
            "831/831 [==============================] - 1s 2ms/step - loss: 8.9510e-04\n",
            "Epoch 30/200\n",
            "831/831 [==============================] - 1s 2ms/step - loss: 9.1078e-04\n",
            "Epoch 31/200\n",
            "831/831 [==============================] - 1s 2ms/step - loss: 8.7302e-04\n",
            "Epoch 32/200\n",
            "831/831 [==============================] - 1s 2ms/step - loss: 9.3468e-04\n",
            "Epoch 33/200\n",
            "831/831 [==============================] - 1s 2ms/step - loss: 9.0132e-04\n",
            "Epoch 34/200\n",
            "831/831 [==============================] - 1s 2ms/step - loss: 8.4418e-04\n",
            "Epoch 35/200\n",
            "831/831 [==============================] - 1s 2ms/step - loss: 8.4118e-04\n",
            "Epoch 36/200\n",
            "831/831 [==============================] - 1s 2ms/step - loss: 8.2466e-04\n",
            "Epoch 37/200\n",
            "831/831 [==============================] - 1s 2ms/step - loss: 8.1120e-04\n",
            "Epoch 38/200\n",
            "831/831 [==============================] - 1s 2ms/step - loss: 8.0996e-04\n",
            "Epoch 39/200\n",
            "831/831 [==============================] - 1s 2ms/step - loss: 8.1300e-04\n",
            "Epoch 40/200\n",
            "831/831 [==============================] - 1s 2ms/step - loss: 7.8738e-04\n",
            "Epoch 41/200\n",
            "831/831 [==============================] - 1s 2ms/step - loss: 7.8472e-04\n",
            "Epoch 42/200\n",
            "831/831 [==============================] - 1s 2ms/step - loss: 8.1369e-04\n",
            "Epoch 43/200\n",
            "831/831 [==============================] - 1s 2ms/step - loss: 8.5691e-04\n",
            "Epoch 44/200\n",
            "831/831 [==============================] - 1s 2ms/step - loss: 8.3612e-04\n",
            "Epoch 45/200\n",
            "831/831 [==============================] - 1s 2ms/step - loss: 8.5637e-04\n",
            "Epoch 46/200\n",
            "831/831 [==============================] - 1s 2ms/step - loss: 8.3493e-04\n",
            "Epoch 47/200\n",
            "831/831 [==============================] - 1s 2ms/step - loss: 8.1128e-04\n",
            "Epoch 48/200\n",
            "831/831 [==============================] - 1s 2ms/step - loss: 8.1791e-04\n",
            "Epoch 49/200\n",
            "831/831 [==============================] - 1s 2ms/step - loss: 7.9504e-04\n",
            "Epoch 50/200\n",
            "831/831 [==============================] - 1s 2ms/step - loss: 9.1831e-04\n",
            "Epoch 51/200\n",
            "831/831 [==============================] - 1s 2ms/step - loss: 7.7658e-04\n",
            "Epoch 52/200\n",
            "831/831 [==============================] - 1s 2ms/step - loss: 7.4739e-04\n",
            "Epoch 53/200\n",
            "831/831 [==============================] - 1s 2ms/step - loss: 8.7315e-04\n",
            "Epoch 54/200\n",
            "831/831 [==============================] - 1s 2ms/step - loss: 7.9473e-04\n",
            "Epoch 55/200\n",
            "831/831 [==============================] - 1s 2ms/step - loss: 7.3589e-04\n",
            "Epoch 56/200\n",
            "831/831 [==============================] - 1s 2ms/step - loss: 7.4384e-04\n",
            "Epoch 57/200\n",
            "831/831 [==============================] - 1s 2ms/step - loss: 7.8541e-04\n",
            "Epoch 58/200\n",
            "831/831 [==============================] - 1s 2ms/step - loss: 8.7061e-04\n",
            "Epoch 59/200\n",
            "831/831 [==============================] - 1s 2ms/step - loss: 8.1601e-04\n",
            "Epoch 60/200\n",
            "831/831 [==============================] - 1s 2ms/step - loss: 8.4205e-04\n",
            "Epoch 61/200\n",
            "831/831 [==============================] - 1s 2ms/step - loss: 7.9528e-04\n",
            "Epoch 62/200\n",
            "831/831 [==============================] - 1s 2ms/step - loss: 7.1091e-04\n",
            "Epoch 63/200\n",
            "831/831 [==============================] - 1s 2ms/step - loss: 6.9068e-04\n",
            "Epoch 64/200\n",
            "831/831 [==============================] - 1s 2ms/step - loss: 6.6787e-04\n",
            "Epoch 65/200\n",
            "831/831 [==============================] - 1s 2ms/step - loss: 6.4868e-04\n",
            "Epoch 66/200\n",
            "831/831 [==============================] - 1s 2ms/step - loss: 6.7227e-04\n",
            "Epoch 67/200\n",
            "831/831 [==============================] - 1s 2ms/step - loss: 7.4487e-04\n",
            "Epoch 68/200\n",
            "831/831 [==============================] - 1s 2ms/step - loss: 6.6197e-04\n",
            "Epoch 69/200\n",
            "831/831 [==============================] - 1s 2ms/step - loss: 6.3358e-04\n",
            "Epoch 70/200\n",
            "831/831 [==============================] - 1s 2ms/step - loss: 6.2485e-04\n",
            "Epoch 71/200\n",
            "831/831 [==============================] - 1s 2ms/step - loss: 6.8004e-04\n",
            "Epoch 72/200\n",
            "831/831 [==============================] - 1s 2ms/step - loss: 6.4396e-04\n",
            "Epoch 73/200\n",
            "831/831 [==============================] - 1s 2ms/step - loss: 6.2822e-04\n",
            "Epoch 74/200\n",
            "831/831 [==============================] - 1s 2ms/step - loss: 6.2712e-04\n",
            "Epoch 75/200\n",
            "831/831 [==============================] - 1s 2ms/step - loss: 6.0366e-04\n",
            "Epoch 76/200\n",
            "831/831 [==============================] - 1s 2ms/step - loss: 6.4762e-04\n",
            "Epoch 77/200\n",
            "831/831 [==============================] - 1s 2ms/step - loss: 6.3993e-04\n",
            "Epoch 78/200\n",
            "831/831 [==============================] - 1s 2ms/step - loss: 7.1479e-04\n",
            "Epoch 79/200\n",
            "831/831 [==============================] - 1s 2ms/step - loss: 6.1783e-04\n",
            "Epoch 80/200\n",
            "831/831 [==============================] - 1s 2ms/step - loss: 5.9407e-04\n",
            "Epoch 81/200\n",
            "831/831 [==============================] - 1s 2ms/step - loss: 6.0006e-04\n",
            "Epoch 82/200\n",
            "831/831 [==============================] - 1s 2ms/step - loss: 6.8051e-04\n",
            "Epoch 83/200\n",
            "831/831 [==============================] - 1s 2ms/step - loss: 7.4385e-04\n",
            "Epoch 84/200\n",
            "831/831 [==============================] - 1s 2ms/step - loss: 6.0761e-04\n",
            "Epoch 85/200\n",
            "831/831 [==============================] - 1s 2ms/step - loss: 6.0625e-04\n",
            "Epoch 86/200\n",
            "831/831 [==============================] - 1s 2ms/step - loss: 5.5709e-04\n",
            "Epoch 87/200\n",
            "831/831 [==============================] - 1s 2ms/step - loss: 5.4838e-04\n",
            "Epoch 88/200\n",
            "831/831 [==============================] - 1s 2ms/step - loss: 5.4889e-04\n",
            "Epoch 89/200\n",
            "831/831 [==============================] - 1s 2ms/step - loss: 5.4210e-04\n",
            "Epoch 90/200\n",
            "831/831 [==============================] - 1s 2ms/step - loss: 5.5365e-04\n",
            "Epoch 91/200\n",
            "831/831 [==============================] - 1s 2ms/step - loss: 5.4949e-04\n",
            "Epoch 92/200\n",
            "831/831 [==============================] - 1s 2ms/step - loss: 5.4359e-04\n",
            "Epoch 93/200\n",
            "831/831 [==============================] - 1s 2ms/step - loss: 5.3068e-04\n",
            "Epoch 94/200\n",
            "831/831 [==============================] - 1s 2ms/step - loss: 5.2376e-04\n",
            "Epoch 95/200\n",
            "831/831 [==============================] - 1s 2ms/step - loss: 5.2687e-04\n",
            "Epoch 96/200\n",
            "831/831 [==============================] - 1s 2ms/step - loss: 5.4894e-04\n",
            "Epoch 97/200\n",
            "831/831 [==============================] - 1s 2ms/step - loss: 6.1187e-04\n",
            "Epoch 98/200\n",
            "831/831 [==============================] - 1s 2ms/step - loss: 5.6798e-04\n",
            "Epoch 99/200\n",
            "831/831 [==============================] - 1s 2ms/step - loss: 5.6054e-04\n",
            "Epoch 100/200\n",
            "831/831 [==============================] - 1s 2ms/step - loss: 5.1891e-04\n",
            "Epoch 101/200\n",
            "831/831 [==============================] - 1s 2ms/step - loss: 5.0128e-04\n",
            "Epoch 102/200\n",
            "831/831 [==============================] - 1s 2ms/step - loss: 4.8814e-04\n",
            "Epoch 103/200\n",
            "831/831 [==============================] - 1s 2ms/step - loss: 5.0390e-04\n",
            "Epoch 104/200\n",
            "831/831 [==============================] - 1s 2ms/step - loss: 4.7885e-04\n",
            "Epoch 105/200\n",
            "831/831 [==============================] - 1s 2ms/step - loss: 4.7345e-04\n",
            "Epoch 106/200\n",
            "831/831 [==============================] - 1s 2ms/step - loss: 4.7202e-04\n",
            "Epoch 107/200\n",
            "831/831 [==============================] - 1s 2ms/step - loss: 4.7086e-04\n",
            "Epoch 108/200\n",
            "831/831 [==============================] - 1s 2ms/step - loss: 4.6123e-04\n",
            "Epoch 109/200\n",
            "831/831 [==============================] - 1s 2ms/step - loss: 4.6726e-04\n",
            "Epoch 110/200\n",
            "831/831 [==============================] - 1s 2ms/step - loss: 4.6080e-04\n",
            "Epoch 111/200\n",
            "831/831 [==============================] - 1s 2ms/step - loss: 4.6194e-04\n",
            "Epoch 112/200\n",
            "831/831 [==============================] - 1s 2ms/step - loss: 4.5491e-04\n",
            "Epoch 113/200\n",
            "831/831 [==============================] - 1s 2ms/step - loss: 4.6974e-04\n",
            "Epoch 114/200\n",
            "831/831 [==============================] - 1s 2ms/step - loss: 4.6545e-04\n",
            "Epoch 115/200\n",
            "831/831 [==============================] - 1s 2ms/step - loss: 4.6248e-04\n",
            "Epoch 116/200\n",
            "831/831 [==============================] - 1s 2ms/step - loss: 4.7381e-04\n",
            "Epoch 117/200\n",
            "831/831 [==============================] - 1s 2ms/step - loss: 4.5952e-04\n",
            "Epoch 118/200\n",
            "831/831 [==============================] - 1s 2ms/step - loss: 4.4260e-04\n",
            "Epoch 119/200\n",
            "831/831 [==============================] - 1s 2ms/step - loss: 4.5040e-04\n",
            "Epoch 120/200\n",
            "831/831 [==============================] - 1s 2ms/step - loss: 4.6075e-04\n",
            "Epoch 121/200\n",
            "831/831 [==============================] - 1s 2ms/step - loss: 5.1438e-04\n",
            "Epoch 122/200\n",
            "831/831 [==============================] - 1s 2ms/step - loss: 5.1842e-04\n",
            "Epoch 123/200\n",
            "831/831 [==============================] - 1s 2ms/step - loss: 4.3742e-04\n",
            "Epoch 124/200\n",
            "831/831 [==============================] - 1s 2ms/step - loss: 4.3730e-04\n",
            "Epoch 125/200\n",
            "831/831 [==============================] - 1s 2ms/step - loss: 4.1593e-04\n",
            "Epoch 126/200\n",
            "831/831 [==============================] - 1s 2ms/step - loss: 4.2537e-04\n",
            "Epoch 127/200\n",
            "831/831 [==============================] - 1s 2ms/step - loss: 4.3261e-04\n",
            "Epoch 128/200\n",
            "831/831 [==============================] - 1s 2ms/step - loss: 4.1059e-04\n",
            "Epoch 129/200\n",
            "831/831 [==============================] - 1s 2ms/step - loss: 4.1237e-04\n",
            "Epoch 130/200\n",
            "831/831 [==============================] - 1s 2ms/step - loss: 4.1025e-04\n",
            "Epoch 131/200\n",
            "831/831 [==============================] - 1s 2ms/step - loss: 4.0416e-04\n",
            "Epoch 132/200\n",
            "831/831 [==============================] - 1s 2ms/step - loss: 4.2082e-04\n",
            "Epoch 133/200\n",
            "831/831 [==============================] - 1s 2ms/step - loss: 4.0594e-04\n",
            "Epoch 134/200\n",
            "831/831 [==============================] - 1s 2ms/step - loss: 4.2347e-04\n",
            "Epoch 135/200\n",
            "831/831 [==============================] - 1s 2ms/step - loss: 4.3899e-04\n",
            "Epoch 136/200\n",
            "831/831 [==============================] - 1s 2ms/step - loss: 4.4446e-04\n",
            "Epoch 137/200\n",
            "831/831 [==============================] - 1s 2ms/step - loss: 4.5080e-04\n",
            "Epoch 138/200\n",
            "831/831 [==============================] - 1s 2ms/step - loss: 4.1094e-04\n",
            "Epoch 139/200\n",
            "831/831 [==============================] - 1s 2ms/step - loss: 5.0364e-04\n",
            "Epoch 140/200\n",
            "831/831 [==============================] - 1s 2ms/step - loss: 4.9698e-04\n",
            "Epoch 141/200\n",
            "831/831 [==============================] - 1s 2ms/step - loss: 4.7664e-04\n",
            "Epoch 142/200\n",
            "831/831 [==============================] - 1s 2ms/step - loss: 4.6612e-04\n",
            "Epoch 143/200\n",
            "831/831 [==============================] - 1s 2ms/step - loss: 5.0073e-04\n",
            "Epoch 144/200\n",
            "831/831 [==============================] - 1s 2ms/step - loss: 4.3727e-04\n",
            "Epoch 145/200\n",
            "831/831 [==============================] - 1s 2ms/step - loss: 3.8486e-04\n",
            "Epoch 146/200\n",
            "831/831 [==============================] - 1s 2ms/step - loss: 3.8011e-04\n",
            "Epoch 147/200\n",
            "831/831 [==============================] - 1s 2ms/step - loss: 3.8113e-04\n",
            "Epoch 148/200\n",
            "831/831 [==============================] - 1s 2ms/step - loss: 3.7552e-04\n",
            "Epoch 149/200\n",
            "831/831 [==============================] - 1s 2ms/step - loss: 3.8665e-04\n",
            "Epoch 150/200\n",
            "831/831 [==============================] - 1s 2ms/step - loss: 3.7365e-04\n",
            "Epoch 151/200\n",
            "831/831 [==============================] - 1s 2ms/step - loss: 3.7033e-04\n",
            "Epoch 152/200\n",
            "831/831 [==============================] - 1s 2ms/step - loss: 3.9751e-04\n",
            "Epoch 153/200\n",
            "831/831 [==============================] - 1s 2ms/step - loss: 3.8837e-04\n",
            "Epoch 154/200\n",
            "831/831 [==============================] - 1s 2ms/step - loss: 3.8238e-04\n",
            "Epoch 155/200\n",
            "831/831 [==============================] - 1s 2ms/step - loss: 4.0110e-04\n",
            "Epoch 156/200\n",
            "831/831 [==============================] - 1s 2ms/step - loss: 3.8130e-04\n",
            "Epoch 157/200\n",
            "831/831 [==============================] - 1s 2ms/step - loss: 4.3167e-04\n",
            "Epoch 158/200\n",
            "831/831 [==============================] - 1s 2ms/step - loss: 4.2664e-04\n",
            "Epoch 159/200\n",
            "831/831 [==============================] - 1s 2ms/step - loss: 4.3541e-04\n",
            "Epoch 160/200\n",
            "831/831 [==============================] - 1s 2ms/step - loss: 3.8831e-04\n",
            "Epoch 161/200\n",
            "831/831 [==============================] - 1s 2ms/step - loss: 3.9675e-04\n",
            "Epoch 162/200\n",
            "831/831 [==============================] - 1s 2ms/step - loss: 3.9070e-04\n",
            "Epoch 163/200\n",
            "831/831 [==============================] - 1s 2ms/step - loss: 3.8139e-04\n",
            "Epoch 164/200\n",
            "831/831 [==============================] - 1s 2ms/step - loss: 3.7819e-04\n",
            "Epoch 165/200\n",
            "831/831 [==============================] - 1s 2ms/step - loss: 3.5654e-04\n",
            "Epoch 166/200\n",
            "831/831 [==============================] - 1s 2ms/step - loss: 3.6512e-04\n",
            "Epoch 167/200\n",
            "831/831 [==============================] - 1s 2ms/step - loss: 3.7111e-04\n",
            "Epoch 168/200\n",
            "831/831 [==============================] - 1s 2ms/step - loss: 3.9153e-04\n",
            "Epoch 169/200\n",
            "831/831 [==============================] - 1s 2ms/step - loss: 4.2523e-04\n",
            "Epoch 170/200\n",
            "831/831 [==============================] - 1s 2ms/step - loss: 3.6393e-04\n",
            "Epoch 171/200\n",
            "831/831 [==============================] - 1s 2ms/step - loss: 3.5778e-04\n",
            "Epoch 172/200\n",
            "831/831 [==============================] - 1s 2ms/step - loss: 3.7467e-04\n",
            "Epoch 173/200\n",
            "831/831 [==============================] - 1s 2ms/step - loss: 4.4708e-04\n",
            "Epoch 174/200\n",
            "831/831 [==============================] - 1s 2ms/step - loss: 4.5867e-04\n",
            "Epoch 175/200\n",
            "831/831 [==============================] - 1s 2ms/step - loss: 4.3508e-04\n",
            "Epoch 176/200\n",
            "831/831 [==============================] - 1s 2ms/step - loss: 3.5350e-04\n",
            "Epoch 177/200\n",
            "831/831 [==============================] - 1s 2ms/step - loss: 3.4032e-04\n",
            "Epoch 178/200\n",
            "831/831 [==============================] - 1s 2ms/step - loss: 3.4248e-04\n",
            "Epoch 179/200\n",
            "831/831 [==============================] - 1s 2ms/step - loss: 3.3782e-04\n",
            "Epoch 180/200\n",
            "831/831 [==============================] - 1s 2ms/step - loss: 3.6938e-04\n",
            "Epoch 181/200\n",
            "831/831 [==============================] - 1s 2ms/step - loss: 3.5198e-04\n",
            "Epoch 182/200\n",
            "831/831 [==============================] - 1s 2ms/step - loss: 3.5287e-04\n",
            "Epoch 183/200\n",
            "831/831 [==============================] - 1s 2ms/step - loss: 3.3949e-04\n",
            "Epoch 184/200\n",
            "831/831 [==============================] - 1s 2ms/step - loss: 3.5135e-04\n",
            "Epoch 185/200\n",
            "831/831 [==============================] - 1s 2ms/step - loss: 3.3056e-04\n",
            "Epoch 186/200\n",
            "831/831 [==============================] - 1s 2ms/step - loss: 3.3306e-04\n",
            "Epoch 187/200\n",
            "831/831 [==============================] - 1s 2ms/step - loss: 3.5553e-04\n",
            "Epoch 188/200\n",
            "831/831 [==============================] - 1s 2ms/step - loss: 4.3010e-04\n",
            "Epoch 189/200\n",
            "831/831 [==============================] - 1s 2ms/step - loss: 3.8187e-04\n",
            "Epoch 190/200\n",
            "831/831 [==============================] - 1s 2ms/step - loss: 3.9155e-04\n",
            "Epoch 191/200\n",
            "831/831 [==============================] - 1s 2ms/step - loss: 3.9580e-04\n",
            "Epoch 192/200\n",
            "831/831 [==============================] - 1s 2ms/step - loss: 4.5134e-04\n",
            "Epoch 193/200\n",
            "831/831 [==============================] - 1s 2ms/step - loss: 4.3325e-04\n",
            "Epoch 194/200\n",
            "831/831 [==============================] - 1s 2ms/step - loss: 3.6174e-04\n",
            "Epoch 195/200\n",
            "831/831 [==============================] - 1s 2ms/step - loss: 3.5351e-04\n",
            "Epoch 196/200\n",
            "831/831 [==============================] - 1s 2ms/step - loss: 3.2608e-04\n",
            "Epoch 197/200\n",
            "831/831 [==============================] - 1s 2ms/step - loss: 3.2648e-04\n",
            "Epoch 198/200\n",
            "831/831 [==============================] - 1s 2ms/step - loss: 3.3422e-04\n",
            "Epoch 199/200\n",
            "831/831 [==============================] - 1s 2ms/step - loss: 3.2578e-04\n",
            "Epoch 200/200\n",
            "831/831 [==============================] - 1s 2ms/step - loss: 3.3633e-04\n"
          ],
          "name": "stdout"
        },
        {
          "output_type": "execute_result",
          "data": {
            "text/plain": [
              "<keras.callbacks.callbacks.History at 0x7f218c543f60>"
            ]
          },
          "metadata": {
            "tags": []
          },
          "execution_count": 122
        }
      ]
    },
    {
      "cell_type": "code",
      "metadata": {
        "id": "8-F8KVzo6rKY",
        "colab_type": "code",
        "outputId": "e06c77d4-dc2b-411f-da65-71ef04a54ecc",
        "colab": {
          "base_uri": "https://localhost:8080/",
          "height": 282
        }
      },
      "source": [
        "# Prediction\n",
        "y_pred = model.predict(X_test)\n",
        "\n",
        "# Inverse to original values\n",
        "y_pred_inv = np.squeeze(scaler_y.inverse_transform(y_pred.reshape(-1, 1)))\n",
        "y_test_inv = np.squeeze(scaler_y.inverse_transform(y_test.reshape(-1, 1)))\n",
        "\n",
        "# Plot\n",
        "plt.plot(y_pred_inv)\n",
        "plt.plot(y_test_inv)\n",
        "plt.ylabel('Stock Price')"
      ],
      "execution_count": 120,
      "outputs": [
        {
          "output_type": "execute_result",
          "data": {
            "text/plain": [
              "Text(0, 0.5, 'Stock Price')"
            ]
          },
          "metadata": {
            "tags": []
          },
          "execution_count": 120
        },
        {
          "output_type": "display_data",
          "data": {
            "image/png": "[encoded data removed]",
            "text/plain": [
              "<Figure size 432x288 with 1 Axes>"
            ]
          },
          "metadata": {
            "tags": [],
            "needs_background": "light"
          }
        }
      ]
    },
    {
      "cell_type": "code",
      "metadata": {
        "id": "y4F-aJ5M8EeC",
        "colab_type": "code",
        "outputId": "d6d8db1a-4e0b-47b8-9607-20c7618c27e1",
        "colab": {
          "base_uri": "https://localhost:8080/",
          "height": 282
        }
      },
      "source": [
        "plt.plot((y_pred_inv-y_test_inv)/y_test_inv*100.0, 'c')\n",
        "plt.ylabel('Percent Error')"
      ],
      "execution_count": 121,
      "outputs": [
        {
          "output_type": "execute_result",
          "data": {
            "text/plain": [
              "Text(0, 0.5, 'Percent Error')"
            ]
          },
          "metadata": {
            "tags": []
          },
          "execution_count": 121
        },
        {
          "output_type": "display_data",
          "data": {
            "image/png": "[encoded data removed]",
            "text/plain": [
              "<Figure size 432x288 with 1 Axes>"
            ]
          },
          "metadata": {
            "tags": [],
            "needs_background": "light"
          }
        }
      ]
    }
  ]
}